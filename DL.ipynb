{
 "cells": [
  {
   "cell_type": "code",
   "execution_count": 1,
   "id": "f1e5af69",
   "metadata": {},
   "outputs": [],
   "source": [
    "import pandas as pd\n",
    "import numpy as np\n",
    "import tensorflow as tf\n",
    "from tensorflow.keras.models import Sequential\n",
    "from tensorflow.keras.layers import Dense"
   ]
  },
  {
   "cell_type": "code",
   "execution_count": 2,
   "id": "54d6f127",
   "metadata": {},
   "outputs": [
    {
     "data": {
      "text/html": [
       "<div>\n",
       "<style scoped>\n",
       "    .dataframe tbody tr th:only-of-type {\n",
       "        vertical-align: middle;\n",
       "    }\n",
       "\n",
       "    .dataframe tbody tr th {\n",
       "        vertical-align: top;\n",
       "    }\n",
       "\n",
       "    .dataframe thead th {\n",
       "        text-align: right;\n",
       "    }\n",
       "</style>\n",
       "<table border=\"1\" class=\"dataframe\">\n",
       "  <thead>\n",
       "    <tr style=\"text-align: right;\">\n",
       "      <th></th>\n",
       "      <th>Pregnancies</th>\n",
       "      <th>Glucose</th>\n",
       "      <th>BloodPressure</th>\n",
       "      <th>SkinThickness</th>\n",
       "      <th>Insulin</th>\n",
       "      <th>BMI</th>\n",
       "      <th>DiabetesPedigreeFunction</th>\n",
       "      <th>Age</th>\n",
       "      <th>Outcome</th>\n",
       "    </tr>\n",
       "  </thead>\n",
       "  <tbody>\n",
       "    <tr>\n",
       "      <th>0</th>\n",
       "      <td>6</td>\n",
       "      <td>148</td>\n",
       "      <td>72</td>\n",
       "      <td>35</td>\n",
       "      <td>0</td>\n",
       "      <td>33.6</td>\n",
       "      <td>0.627</td>\n",
       "      <td>50</td>\n",
       "      <td>1</td>\n",
       "    </tr>\n",
       "    <tr>\n",
       "      <th>1</th>\n",
       "      <td>1</td>\n",
       "      <td>85</td>\n",
       "      <td>66</td>\n",
       "      <td>29</td>\n",
       "      <td>0</td>\n",
       "      <td>26.6</td>\n",
       "      <td>0.351</td>\n",
       "      <td>31</td>\n",
       "      <td>0</td>\n",
       "    </tr>\n",
       "    <tr>\n",
       "      <th>2</th>\n",
       "      <td>8</td>\n",
       "      <td>183</td>\n",
       "      <td>64</td>\n",
       "      <td>0</td>\n",
       "      <td>0</td>\n",
       "      <td>23.3</td>\n",
       "      <td>0.672</td>\n",
       "      <td>32</td>\n",
       "      <td>1</td>\n",
       "    </tr>\n",
       "    <tr>\n",
       "      <th>3</th>\n",
       "      <td>1</td>\n",
       "      <td>89</td>\n",
       "      <td>66</td>\n",
       "      <td>23</td>\n",
       "      <td>94</td>\n",
       "      <td>28.1</td>\n",
       "      <td>0.167</td>\n",
       "      <td>21</td>\n",
       "      <td>0</td>\n",
       "    </tr>\n",
       "    <tr>\n",
       "      <th>4</th>\n",
       "      <td>0</td>\n",
       "      <td>137</td>\n",
       "      <td>40</td>\n",
       "      <td>35</td>\n",
       "      <td>168</td>\n",
       "      <td>43.1</td>\n",
       "      <td>2.288</td>\n",
       "      <td>33</td>\n",
       "      <td>1</td>\n",
       "    </tr>\n",
       "  </tbody>\n",
       "</table>\n",
       "</div>"
      ],
      "text/plain": [
       "   Pregnancies  Glucose  BloodPressure  SkinThickness  Insulin   BMI  \\\n",
       "0            6      148             72             35        0  33.6   \n",
       "1            1       85             66             29        0  26.6   \n",
       "2            8      183             64              0        0  23.3   \n",
       "3            1       89             66             23       94  28.1   \n",
       "4            0      137             40             35      168  43.1   \n",
       "\n",
       "   DiabetesPedigreeFunction  Age  Outcome  \n",
       "0                     0.627   50        1  \n",
       "1                     0.351   31        0  \n",
       "2                     0.672   32        1  \n",
       "3                     0.167   21        0  \n",
       "4                     2.288   33        1  "
      ]
     },
     "execution_count": 2,
     "metadata": {},
     "output_type": "execute_result"
    }
   ],
   "source": [
    "df = pd.read_csv('./diabetes.csv')\n",
    "df.head()"
   ]
  },
  {
   "cell_type": "code",
   "execution_count": 3,
   "id": "b004fe7d",
   "metadata": {},
   "outputs": [],
   "source": [
    "X = df.drop('Outcome', axis=1)\n",
    "y = df['Outcome']"
   ]
  },
  {
   "cell_type": "code",
   "execution_count": 4,
   "id": "8bfbce5c",
   "metadata": {},
   "outputs": [
    {
     "data": {
      "text/html": [
       "<div>\n",
       "<style scoped>\n",
       "    .dataframe tbody tr th:only-of-type {\n",
       "        vertical-align: middle;\n",
       "    }\n",
       "\n",
       "    .dataframe tbody tr th {\n",
       "        vertical-align: top;\n",
       "    }\n",
       "\n",
       "    .dataframe thead th {\n",
       "        text-align: right;\n",
       "    }\n",
       "</style>\n",
       "<table border=\"1\" class=\"dataframe\">\n",
       "  <thead>\n",
       "    <tr style=\"text-align: right;\">\n",
       "      <th></th>\n",
       "      <th>Pregnancies</th>\n",
       "      <th>Glucose</th>\n",
       "      <th>BloodPressure</th>\n",
       "      <th>SkinThickness</th>\n",
       "      <th>Insulin</th>\n",
       "      <th>BMI</th>\n",
       "      <th>DiabetesPedigreeFunction</th>\n",
       "      <th>Age</th>\n",
       "    </tr>\n",
       "  </thead>\n",
       "  <tbody>\n",
       "    <tr>\n",
       "      <th>0</th>\n",
       "      <td>6</td>\n",
       "      <td>148</td>\n",
       "      <td>72</td>\n",
       "      <td>35</td>\n",
       "      <td>0</td>\n",
       "      <td>33.6</td>\n",
       "      <td>0.627</td>\n",
       "      <td>50</td>\n",
       "    </tr>\n",
       "    <tr>\n",
       "      <th>1</th>\n",
       "      <td>1</td>\n",
       "      <td>85</td>\n",
       "      <td>66</td>\n",
       "      <td>29</td>\n",
       "      <td>0</td>\n",
       "      <td>26.6</td>\n",
       "      <td>0.351</td>\n",
       "      <td>31</td>\n",
       "    </tr>\n",
       "    <tr>\n",
       "      <th>2</th>\n",
       "      <td>8</td>\n",
       "      <td>183</td>\n",
       "      <td>64</td>\n",
       "      <td>0</td>\n",
       "      <td>0</td>\n",
       "      <td>23.3</td>\n",
       "      <td>0.672</td>\n",
       "      <td>32</td>\n",
       "    </tr>\n",
       "    <tr>\n",
       "      <th>3</th>\n",
       "      <td>1</td>\n",
       "      <td>89</td>\n",
       "      <td>66</td>\n",
       "      <td>23</td>\n",
       "      <td>94</td>\n",
       "      <td>28.1</td>\n",
       "      <td>0.167</td>\n",
       "      <td>21</td>\n",
       "    </tr>\n",
       "    <tr>\n",
       "      <th>4</th>\n",
       "      <td>0</td>\n",
       "      <td>137</td>\n",
       "      <td>40</td>\n",
       "      <td>35</td>\n",
       "      <td>168</td>\n",
       "      <td>43.1</td>\n",
       "      <td>2.288</td>\n",
       "      <td>33</td>\n",
       "    </tr>\n",
       "  </tbody>\n",
       "</table>\n",
       "</div>"
      ],
      "text/plain": [
       "   Pregnancies  Glucose  BloodPressure  SkinThickness  Insulin   BMI  \\\n",
       "0            6      148             72             35        0  33.6   \n",
       "1            1       85             66             29        0  26.6   \n",
       "2            8      183             64              0        0  23.3   \n",
       "3            1       89             66             23       94  28.1   \n",
       "4            0      137             40             35      168  43.1   \n",
       "\n",
       "   DiabetesPedigreeFunction  Age  \n",
       "0                     0.627   50  \n",
       "1                     0.351   31  \n",
       "2                     0.672   32  \n",
       "3                     0.167   21  \n",
       "4                     2.288   33  "
      ]
     },
     "execution_count": 4,
     "metadata": {},
     "output_type": "execute_result"
    }
   ],
   "source": [
    "X.head()"
   ]
  },
  {
   "cell_type": "code",
   "execution_count": 5,
   "id": "1db20754",
   "metadata": {},
   "outputs": [],
   "source": [
    "from sklearn.preprocessing import StandardScaler\n",
    "\n",
    "sc = StandardScaler()\n",
    "X = sc.fit_transform(X)\n",
    "X = pd.DataFrame(X, columns=['pregnancies', 'glucose', 'bloodPressure', 'skinThickness', 'insulin', 'bmi', 'diabetesPedigreeFunc', 'age'])"
   ]
  },
  {
   "cell_type": "code",
   "execution_count": 6,
   "id": "2ca863ea",
   "metadata": {},
   "outputs": [
    {
     "data": {
      "text/html": [
       "<div>\n",
       "<style scoped>\n",
       "    .dataframe tbody tr th:only-of-type {\n",
       "        vertical-align: middle;\n",
       "    }\n",
       "\n",
       "    .dataframe tbody tr th {\n",
       "        vertical-align: top;\n",
       "    }\n",
       "\n",
       "    .dataframe thead th {\n",
       "        text-align: right;\n",
       "    }\n",
       "</style>\n",
       "<table border=\"1\" class=\"dataframe\">\n",
       "  <thead>\n",
       "    <tr style=\"text-align: right;\">\n",
       "      <th></th>\n",
       "      <th>pregnancies</th>\n",
       "      <th>glucose</th>\n",
       "      <th>bloodPressure</th>\n",
       "      <th>skinThickness</th>\n",
       "      <th>insulin</th>\n",
       "      <th>bmi</th>\n",
       "      <th>diabetesPedigreeFunc</th>\n",
       "      <th>age</th>\n",
       "    </tr>\n",
       "  </thead>\n",
       "  <tbody>\n",
       "    <tr>\n",
       "      <th>0</th>\n",
       "      <td>0.639947</td>\n",
       "      <td>0.848324</td>\n",
       "      <td>0.149641</td>\n",
       "      <td>0.907270</td>\n",
       "      <td>-0.692891</td>\n",
       "      <td>0.204013</td>\n",
       "      <td>0.468492</td>\n",
       "      <td>1.425995</td>\n",
       "    </tr>\n",
       "    <tr>\n",
       "      <th>1</th>\n",
       "      <td>-0.844885</td>\n",
       "      <td>-1.123396</td>\n",
       "      <td>-0.160546</td>\n",
       "      <td>0.530902</td>\n",
       "      <td>-0.692891</td>\n",
       "      <td>-0.684422</td>\n",
       "      <td>-0.365061</td>\n",
       "      <td>-0.190672</td>\n",
       "    </tr>\n",
       "    <tr>\n",
       "      <th>2</th>\n",
       "      <td>1.233880</td>\n",
       "      <td>1.943724</td>\n",
       "      <td>-0.263941</td>\n",
       "      <td>-1.288212</td>\n",
       "      <td>-0.692891</td>\n",
       "      <td>-1.103255</td>\n",
       "      <td>0.604397</td>\n",
       "      <td>-0.105584</td>\n",
       "    </tr>\n",
       "    <tr>\n",
       "      <th>3</th>\n",
       "      <td>-0.844885</td>\n",
       "      <td>-0.998208</td>\n",
       "      <td>-0.160546</td>\n",
       "      <td>0.154533</td>\n",
       "      <td>0.123302</td>\n",
       "      <td>-0.494043</td>\n",
       "      <td>-0.920763</td>\n",
       "      <td>-1.041549</td>\n",
       "    </tr>\n",
       "    <tr>\n",
       "      <th>4</th>\n",
       "      <td>-1.141852</td>\n",
       "      <td>0.504055</td>\n",
       "      <td>-1.504687</td>\n",
       "      <td>0.907270</td>\n",
       "      <td>0.765836</td>\n",
       "      <td>1.409746</td>\n",
       "      <td>5.484909</td>\n",
       "      <td>-0.020496</td>\n",
       "    </tr>\n",
       "  </tbody>\n",
       "</table>\n",
       "</div>"
      ],
      "text/plain": [
       "   pregnancies   glucose  bloodPressure  skinThickness   insulin       bmi  \\\n",
       "0     0.639947  0.848324       0.149641       0.907270 -0.692891  0.204013   \n",
       "1    -0.844885 -1.123396      -0.160546       0.530902 -0.692891 -0.684422   \n",
       "2     1.233880  1.943724      -0.263941      -1.288212 -0.692891 -1.103255   \n",
       "3    -0.844885 -0.998208      -0.160546       0.154533  0.123302 -0.494043   \n",
       "4    -1.141852  0.504055      -1.504687       0.907270  0.765836  1.409746   \n",
       "\n",
       "   diabetesPedigreeFunc       age  \n",
       "0              0.468492  1.425995  \n",
       "1             -0.365061 -0.190672  \n",
       "2              0.604397 -0.105584  \n",
       "3             -0.920763 -1.041549  \n",
       "4              5.484909 -0.020496  "
      ]
     },
     "execution_count": 6,
     "metadata": {},
     "output_type": "execute_result"
    }
   ],
   "source": [
    "X.head()"
   ]
  },
  {
   "cell_type": "code",
   "execution_count": 7,
   "id": "69df2911",
   "metadata": {},
   "outputs": [
    {
     "name": "stdout",
     "output_type": "stream",
     "text": [
      "Metal device set to: Apple M1\n"
     ]
    },
    {
     "name": "stderr",
     "output_type": "stream",
     "text": [
      "2022-08-02 08:47:29.113958: I tensorflow/core/common_runtime/pluggable_device/pluggable_device_factory.cc:305] Could not identify NUMA node of platform GPU ID 0, defaulting to 0. Your kernel may not have been built with NUMA support.\n",
      "2022-08-02 08:47:29.114231: I tensorflow/core/common_runtime/pluggable_device/pluggable_device_factory.cc:271] Created TensorFlow device (/job:localhost/replica:0/task:0/device:GPU:0 with 0 MB memory) -> physical PluggableDevice (device: 0, name: METAL, pci bus id: <undefined>)\n"
     ]
    }
   ],
   "source": [
    "classifier = Sequential()\n",
    "classifier.add(Dense(units=8, activation='relu'))\n",
    "classifier.add(Dense(units=4, activation='relu'))\n",
    "classifier.add(Dense(units=1, activation='sigmoid'))"
   ]
  },
  {
   "cell_type": "code",
   "execution_count": 8,
   "id": "d690fd97",
   "metadata": {},
   "outputs": [],
   "source": [
    "classifier.compile(optimizer='adam', loss='binary_crossentropy', metrics=['accuracy'])"
   ]
  },
  {
   "cell_type": "code",
   "execution_count": 9,
   "id": "1b89b786",
   "metadata": {},
   "outputs": [],
   "source": [
    "from sklearn.model_selection import train_test_split\n",
    "\n",
    "X_train, X_test, y_train, y_test = train_test_split(X, y)"
   ]
  },
  {
   "cell_type": "code",
   "execution_count": 10,
   "id": "2c88a5c5",
   "metadata": {},
   "outputs": [
    {
     "name": "stdout",
     "output_type": "stream",
     "text": [
      "Epoch 1/100\n"
     ]
    },
    {
     "name": "stderr",
     "output_type": "stream",
     "text": [
      "2022-08-02 08:47:29.295983: W tensorflow/core/platform/profile_utils/cpu_utils.cc:128] Failed to get CPU frequency: 0 Hz\n"
     ]
    },
    {
     "name": "stdout",
     "output_type": "stream",
     "text": [
      "10/39 [======>.......................] - ETA: 0s - loss: 0.7292 - accuracy: 0.5300 "
     ]
    },
    {
     "name": "stderr",
     "output_type": "stream",
     "text": [
      "2022-08-02 08:47:29.525888: I tensorflow/core/grappler/optimizers/custom_graph_optimizer_registry.cc:113] Plugin optimizer for device_type GPU is enabled.\n"
     ]
    },
    {
     "name": "stdout",
     "output_type": "stream",
     "text": [
      "39/39 [==============================] - 1s 11ms/step - loss: 0.7423 - accuracy: 0.5455 - val_loss: 0.7001 - val_accuracy: 0.5497\n",
      "Epoch 2/100\n",
      "10/39 [======>.......................] - ETA: 0s - loss: 0.7307 - accuracy: 0.5600"
     ]
    },
    {
     "name": "stderr",
     "output_type": "stream",
     "text": [
      "2022-08-02 08:47:29.973038: I tensorflow/core/grappler/optimizers/custom_graph_optimizer_registry.cc:113] Plugin optimizer for device_type GPU is enabled.\n"
     ]
    },
    {
     "name": "stdout",
     "output_type": "stream",
     "text": [
      "39/39 [==============================] - 0s 7ms/step - loss: 0.6997 - accuracy: 0.5896 - val_loss: 0.6679 - val_accuracy: 0.6073\n",
      "Epoch 3/100\n",
      "39/39 [==============================] - 0s 7ms/step - loss: 0.6681 - accuracy: 0.6286 - val_loss: 0.6429 - val_accuracy: 0.6492\n",
      "Epoch 4/100\n",
      "39/39 [==============================] - 0s 7ms/step - loss: 0.6396 - accuracy: 0.6442 - val_loss: 0.6224 - val_accuracy: 0.6545\n",
      "Epoch 5/100\n",
      "39/39 [==============================] - 0s 7ms/step - loss: 0.6155 - accuracy: 0.6545 - val_loss: 0.6029 - val_accuracy: 0.6754\n",
      "Epoch 6/100\n",
      "39/39 [==============================] - 0s 7ms/step - loss: 0.5926 - accuracy: 0.6805 - val_loss: 0.5879 - val_accuracy: 0.6859\n",
      "Epoch 7/100\n",
      "39/39 [==============================] - 0s 7ms/step - loss: 0.5731 - accuracy: 0.6909 - val_loss: 0.5748 - val_accuracy: 0.6963\n",
      "Epoch 8/100\n",
      "39/39 [==============================] - 0s 7ms/step - loss: 0.5564 - accuracy: 0.6935 - val_loss: 0.5647 - val_accuracy: 0.7016\n",
      "Epoch 9/100\n",
      "39/39 [==============================] - 0s 7ms/step - loss: 0.5411 - accuracy: 0.7091 - val_loss: 0.5562 - val_accuracy: 0.7016\n",
      "Epoch 10/100\n",
      "39/39 [==============================] - 0s 7ms/step - loss: 0.5271 - accuracy: 0.7273 - val_loss: 0.5462 - val_accuracy: 0.7277\n",
      "Epoch 11/100\n",
      "39/39 [==============================] - 0s 7ms/step - loss: 0.5110 - accuracy: 0.7532 - val_loss: 0.5374 - val_accuracy: 0.7277\n",
      "Epoch 12/100\n",
      "39/39 [==============================] - 0s 7ms/step - loss: 0.4956 - accuracy: 0.7584 - val_loss: 0.5297 - val_accuracy: 0.7644\n",
      "Epoch 13/100\n",
      "39/39 [==============================] - 0s 7ms/step - loss: 0.4807 - accuracy: 0.7662 - val_loss: 0.5234 - val_accuracy: 0.7696\n",
      "Epoch 14/100\n",
      "39/39 [==============================] - 0s 7ms/step - loss: 0.4689 - accuracy: 0.7766 - val_loss: 0.5205 - val_accuracy: 0.7644\n",
      "Epoch 15/100\n",
      "39/39 [==============================] - 0s 7ms/step - loss: 0.4599 - accuracy: 0.7818 - val_loss: 0.5187 - val_accuracy: 0.7592\n",
      "Epoch 16/100\n",
      "39/39 [==============================] - 0s 7ms/step - loss: 0.4532 - accuracy: 0.7766 - val_loss: 0.5186 - val_accuracy: 0.7539\n",
      "Epoch 17/100\n",
      "39/39 [==============================] - 0s 6ms/step - loss: 0.4471 - accuracy: 0.7844 - val_loss: 0.5180 - val_accuracy: 0.7592\n",
      "Epoch 18/100\n",
      "39/39 [==============================] - 0s 6ms/step - loss: 0.4418 - accuracy: 0.7870 - val_loss: 0.5181 - val_accuracy: 0.7644\n",
      "Epoch 19/100\n",
      "39/39 [==============================] - 0s 7ms/step - loss: 0.4374 - accuracy: 0.7922 - val_loss: 0.5184 - val_accuracy: 0.7592\n",
      "Epoch 20/100\n",
      "39/39 [==============================] - 0s 7ms/step - loss: 0.4334 - accuracy: 0.8000 - val_loss: 0.5197 - val_accuracy: 0.7592\n",
      "Epoch 21/100\n",
      "39/39 [==============================] - 0s 6ms/step - loss: 0.4305 - accuracy: 0.8026 - val_loss: 0.5206 - val_accuracy: 0.7487\n",
      "Epoch 22/100\n",
      "39/39 [==============================] - 0s 7ms/step - loss: 0.4267 - accuracy: 0.8052 - val_loss: 0.5220 - val_accuracy: 0.7487\n",
      "Epoch 23/100\n",
      "39/39 [==============================] - 0s 7ms/step - loss: 0.4234 - accuracy: 0.8026 - val_loss: 0.5235 - val_accuracy: 0.7487\n",
      "Epoch 24/100\n",
      "39/39 [==============================] - 0s 7ms/step - loss: 0.4211 - accuracy: 0.8000 - val_loss: 0.5236 - val_accuracy: 0.7487\n",
      "Epoch 25/100\n",
      "39/39 [==============================] - 0s 7ms/step - loss: 0.4190 - accuracy: 0.8052 - val_loss: 0.5240 - val_accuracy: 0.7487\n",
      "Epoch 26/100\n",
      "39/39 [==============================] - 0s 7ms/step - loss: 0.4166 - accuracy: 0.8104 - val_loss: 0.5268 - val_accuracy: 0.7487\n",
      "Epoch 27/100\n",
      "39/39 [==============================] - 0s 6ms/step - loss: 0.4143 - accuracy: 0.8156 - val_loss: 0.5268 - val_accuracy: 0.7435\n",
      "Epoch 28/100\n",
      "39/39 [==============================] - 0s 7ms/step - loss: 0.4132 - accuracy: 0.8156 - val_loss: 0.5269 - val_accuracy: 0.7487\n",
      "Epoch 29/100\n",
      "39/39 [==============================] - 0s 7ms/step - loss: 0.4121 - accuracy: 0.8182 - val_loss: 0.5275 - val_accuracy: 0.7382\n",
      "Epoch 30/100\n",
      "39/39 [==============================] - 0s 7ms/step - loss: 0.4101 - accuracy: 0.8156 - val_loss: 0.5273 - val_accuracy: 0.7382\n",
      "Epoch 31/100\n",
      "39/39 [==============================] - 0s 7ms/step - loss: 0.4083 - accuracy: 0.8156 - val_loss: 0.5297 - val_accuracy: 0.7487\n",
      "Epoch 32/100\n",
      "39/39 [==============================] - 0s 7ms/step - loss: 0.4081 - accuracy: 0.8156 - val_loss: 0.5299 - val_accuracy: 0.7382\n",
      "Epoch 33/100\n",
      "39/39 [==============================] - 0s 7ms/step - loss: 0.4065 - accuracy: 0.8182 - val_loss: 0.5309 - val_accuracy: 0.7382\n",
      "Epoch 34/100\n",
      "39/39 [==============================] - 0s 6ms/step - loss: 0.4052 - accuracy: 0.8182 - val_loss: 0.5304 - val_accuracy: 0.7382\n",
      "Epoch 35/100\n",
      "39/39 [==============================] - 0s 6ms/step - loss: 0.4050 - accuracy: 0.8234 - val_loss: 0.5304 - val_accuracy: 0.7382\n",
      "Epoch 36/100\n",
      "39/39 [==============================] - 0s 6ms/step - loss: 0.4031 - accuracy: 0.8234 - val_loss: 0.5315 - val_accuracy: 0.7435\n",
      "Epoch 37/100\n",
      "39/39 [==============================] - 0s 6ms/step - loss: 0.4029 - accuracy: 0.8182 - val_loss: 0.5322 - val_accuracy: 0.7382\n",
      "Epoch 38/100\n",
      "39/39 [==============================] - 0s 6ms/step - loss: 0.4011 - accuracy: 0.8234 - val_loss: 0.5318 - val_accuracy: 0.7382\n",
      "Epoch 39/100\n",
      "39/39 [==============================] - 0s 7ms/step - loss: 0.4009 - accuracy: 0.8260 - val_loss: 0.5328 - val_accuracy: 0.7382\n",
      "Epoch 40/100\n",
      "39/39 [==============================] - 0s 6ms/step - loss: 0.4000 - accuracy: 0.8208 - val_loss: 0.5340 - val_accuracy: 0.7382\n",
      "Epoch 41/100\n",
      "39/39 [==============================] - 0s 7ms/step - loss: 0.3996 - accuracy: 0.8260 - val_loss: 0.5344 - val_accuracy: 0.7382\n",
      "Epoch 42/100\n",
      "39/39 [==============================] - 0s 7ms/step - loss: 0.3984 - accuracy: 0.8260 - val_loss: 0.5345 - val_accuracy: 0.7382\n",
      "Epoch 43/100\n",
      "39/39 [==============================] - 0s 6ms/step - loss: 0.3982 - accuracy: 0.8260 - val_loss: 0.5347 - val_accuracy: 0.7382\n",
      "Epoch 44/100\n",
      "39/39 [==============================] - 0s 7ms/step - loss: 0.3979 - accuracy: 0.8234 - val_loss: 0.5353 - val_accuracy: 0.7435\n",
      "Epoch 45/100\n",
      "39/39 [==============================] - 0s 7ms/step - loss: 0.3968 - accuracy: 0.8208 - val_loss: 0.5359 - val_accuracy: 0.7382\n",
      "Epoch 46/100\n",
      "39/39 [==============================] - 0s 6ms/step - loss: 0.3966 - accuracy: 0.8234 - val_loss: 0.5360 - val_accuracy: 0.7382\n",
      "Epoch 47/100\n",
      "39/39 [==============================] - 0s 7ms/step - loss: 0.3958 - accuracy: 0.8286 - val_loss: 0.5365 - val_accuracy: 0.7382\n",
      "Epoch 48/100\n",
      "39/39 [==============================] - 0s 7ms/step - loss: 0.3957 - accuracy: 0.8234 - val_loss: 0.5366 - val_accuracy: 0.7487\n",
      "Epoch 49/100\n",
      "39/39 [==============================] - 0s 6ms/step - loss: 0.3953 - accuracy: 0.8208 - val_loss: 0.5372 - val_accuracy: 0.7382\n",
      "Epoch 50/100\n",
      "39/39 [==============================] - 0s 7ms/step - loss: 0.3944 - accuracy: 0.8234 - val_loss: 0.5381 - val_accuracy: 0.7382\n",
      "Epoch 51/100\n",
      "39/39 [==============================] - 0s 7ms/step - loss: 0.3954 - accuracy: 0.8260 - val_loss: 0.5373 - val_accuracy: 0.7435\n",
      "Epoch 52/100\n",
      "39/39 [==============================] - 0s 7ms/step - loss: 0.3939 - accuracy: 0.8234 - val_loss: 0.5386 - val_accuracy: 0.7435\n",
      "Epoch 53/100\n",
      "39/39 [==============================] - 0s 7ms/step - loss: 0.3923 - accuracy: 0.8286 - val_loss: 0.5380 - val_accuracy: 0.7330\n",
      "Epoch 54/100\n",
      "39/39 [==============================] - 0s 6ms/step - loss: 0.3920 - accuracy: 0.8312 - val_loss: 0.5373 - val_accuracy: 0.7435\n",
      "Epoch 55/100\n",
      "39/39 [==============================] - 0s 6ms/step - loss: 0.3919 - accuracy: 0.8286 - val_loss: 0.5396 - val_accuracy: 0.7435\n",
      "Epoch 56/100\n",
      "39/39 [==============================] - 0s 7ms/step - loss: 0.3917 - accuracy: 0.8338 - val_loss: 0.5410 - val_accuracy: 0.7382\n",
      "Epoch 57/100\n",
      "39/39 [==============================] - 0s 7ms/step - loss: 0.3905 - accuracy: 0.8286 - val_loss: 0.5401 - val_accuracy: 0.7435\n",
      "Epoch 58/100\n",
      "39/39 [==============================] - 0s 7ms/step - loss: 0.3902 - accuracy: 0.8286 - val_loss: 0.5407 - val_accuracy: 0.7539\n",
      "Epoch 59/100\n",
      "39/39 [==============================] - 0s 6ms/step - loss: 0.3914 - accuracy: 0.8312 - val_loss: 0.5415 - val_accuracy: 0.7487\n"
     ]
    },
    {
     "name": "stdout",
     "output_type": "stream",
     "text": [
      "Epoch 60/100\n",
      "39/39 [==============================] - 0s 7ms/step - loss: 0.3893 - accuracy: 0.8312 - val_loss: 0.5416 - val_accuracy: 0.7539\n",
      "Epoch 61/100\n",
      "39/39 [==============================] - 0s 7ms/step - loss: 0.3893 - accuracy: 0.8286 - val_loss: 0.5393 - val_accuracy: 0.7487\n",
      "Epoch 62/100\n",
      "39/39 [==============================] - 0s 6ms/step - loss: 0.3890 - accuracy: 0.8338 - val_loss: 0.5407 - val_accuracy: 0.7487\n",
      "Epoch 63/100\n",
      "39/39 [==============================] - 0s 7ms/step - loss: 0.3881 - accuracy: 0.8312 - val_loss: 0.5430 - val_accuracy: 0.7539\n",
      "Epoch 64/100\n",
      "39/39 [==============================] - 0s 7ms/step - loss: 0.3879 - accuracy: 0.8260 - val_loss: 0.5415 - val_accuracy: 0.7487\n",
      "Epoch 65/100\n",
      "39/39 [==============================] - 0s 7ms/step - loss: 0.3871 - accuracy: 0.8312 - val_loss: 0.5418 - val_accuracy: 0.7539\n",
      "Epoch 66/100\n",
      "39/39 [==============================] - 0s 7ms/step - loss: 0.3864 - accuracy: 0.8312 - val_loss: 0.5416 - val_accuracy: 0.7539\n",
      "Epoch 67/100\n",
      "39/39 [==============================] - 0s 7ms/step - loss: 0.3865 - accuracy: 0.8286 - val_loss: 0.5415 - val_accuracy: 0.7539\n",
      "Epoch 68/100\n",
      "39/39 [==============================] - 0s 7ms/step - loss: 0.3861 - accuracy: 0.8312 - val_loss: 0.5423 - val_accuracy: 0.7539\n",
      "Epoch 69/100\n",
      "39/39 [==============================] - 0s 6ms/step - loss: 0.3863 - accuracy: 0.8286 - val_loss: 0.5445 - val_accuracy: 0.7539\n",
      "Epoch 70/100\n",
      "39/39 [==============================] - 0s 7ms/step - loss: 0.3847 - accuracy: 0.8312 - val_loss: 0.5430 - val_accuracy: 0.7539\n",
      "Epoch 71/100\n",
      "39/39 [==============================] - 0s 6ms/step - loss: 0.3846 - accuracy: 0.8312 - val_loss: 0.5427 - val_accuracy: 0.7539\n",
      "Epoch 72/100\n",
      "39/39 [==============================] - 0s 7ms/step - loss: 0.3841 - accuracy: 0.8312 - val_loss: 0.5441 - val_accuracy: 0.7539\n",
      "Epoch 73/100\n",
      "39/39 [==============================] - 0s 7ms/step - loss: 0.3843 - accuracy: 0.8312 - val_loss: 0.5449 - val_accuracy: 0.7539\n",
      "Epoch 74/100\n",
      "39/39 [==============================] - 0s 7ms/step - loss: 0.3828 - accuracy: 0.8312 - val_loss: 0.5462 - val_accuracy: 0.7592\n",
      "Epoch 75/100\n",
      "39/39 [==============================] - 0s 6ms/step - loss: 0.3833 - accuracy: 0.8286 - val_loss: 0.5470 - val_accuracy: 0.7539\n",
      "Epoch 76/100\n",
      "39/39 [==============================] - 0s 7ms/step - loss: 0.3825 - accuracy: 0.8286 - val_loss: 0.5444 - val_accuracy: 0.7592\n",
      "Epoch 77/100\n",
      "39/39 [==============================] - 0s 6ms/step - loss: 0.3814 - accuracy: 0.8312 - val_loss: 0.5461 - val_accuracy: 0.7592\n",
      "Epoch 78/100\n",
      "39/39 [==============================] - 0s 7ms/step - loss: 0.3813 - accuracy: 0.8312 - val_loss: 0.5475 - val_accuracy: 0.7592\n",
      "Epoch 79/100\n",
      "39/39 [==============================] - 0s 7ms/step - loss: 0.3812 - accuracy: 0.8312 - val_loss: 0.5459 - val_accuracy: 0.7539\n",
      "Epoch 80/100\n",
      "39/39 [==============================] - 0s 7ms/step - loss: 0.3815 - accuracy: 0.8286 - val_loss: 0.5464 - val_accuracy: 0.7539\n",
      "Epoch 81/100\n",
      "39/39 [==============================] - 0s 7ms/step - loss: 0.3797 - accuracy: 0.8312 - val_loss: 0.5480 - val_accuracy: 0.7644\n",
      "Epoch 82/100\n",
      "39/39 [==============================] - 0s 7ms/step - loss: 0.3798 - accuracy: 0.8312 - val_loss: 0.5479 - val_accuracy: 0.7644\n",
      "Epoch 83/100\n",
      "39/39 [==============================] - 0s 7ms/step - loss: 0.3802 - accuracy: 0.8364 - val_loss: 0.5468 - val_accuracy: 0.7592\n",
      "Epoch 84/100\n",
      "39/39 [==============================] - 0s 7ms/step - loss: 0.3794 - accuracy: 0.8312 - val_loss: 0.5473 - val_accuracy: 0.7592\n",
      "Epoch 85/100\n",
      "39/39 [==============================] - 0s 7ms/step - loss: 0.3798 - accuracy: 0.8338 - val_loss: 0.5478 - val_accuracy: 0.7539\n",
      "Epoch 86/100\n",
      "39/39 [==============================] - 0s 7ms/step - loss: 0.3793 - accuracy: 0.8364 - val_loss: 0.5481 - val_accuracy: 0.7592\n",
      "Epoch 87/100\n",
      "39/39 [==============================] - 0s 6ms/step - loss: 0.3791 - accuracy: 0.8364 - val_loss: 0.5499 - val_accuracy: 0.7592\n",
      "Epoch 88/100\n",
      "39/39 [==============================] - 0s 7ms/step - loss: 0.3783 - accuracy: 0.8312 - val_loss: 0.5486 - val_accuracy: 0.7592\n",
      "Epoch 89/100\n",
      "39/39 [==============================] - 0s 7ms/step - loss: 0.3778 - accuracy: 0.8286 - val_loss: 0.5471 - val_accuracy: 0.7539\n",
      "Epoch 90/100\n",
      "39/39 [==============================] - 0s 7ms/step - loss: 0.3777 - accuracy: 0.8338 - val_loss: 0.5480 - val_accuracy: 0.7592\n",
      "Epoch 91/100\n",
      "39/39 [==============================] - 0s 7ms/step - loss: 0.3774 - accuracy: 0.8338 - val_loss: 0.5493 - val_accuracy: 0.7539\n",
      "Epoch 92/100\n",
      "39/39 [==============================] - 0s 7ms/step - loss: 0.3769 - accuracy: 0.8338 - val_loss: 0.5478 - val_accuracy: 0.7592\n",
      "Epoch 93/100\n",
      "39/39 [==============================] - 0s 7ms/step - loss: 0.3767 - accuracy: 0.8338 - val_loss: 0.5471 - val_accuracy: 0.7592\n",
      "Epoch 94/100\n",
      "39/39 [==============================] - 0s 7ms/step - loss: 0.3772 - accuracy: 0.8312 - val_loss: 0.5492 - val_accuracy: 0.7592\n",
      "Epoch 95/100\n",
      "39/39 [==============================] - 0s 7ms/step - loss: 0.3763 - accuracy: 0.8338 - val_loss: 0.5491 - val_accuracy: 0.7592\n",
      "Epoch 96/100\n",
      "39/39 [==============================] - 0s 7ms/step - loss: 0.3765 - accuracy: 0.8364 - val_loss: 0.5472 - val_accuracy: 0.7592\n",
      "Epoch 97/100\n",
      "39/39 [==============================] - 0s 7ms/step - loss: 0.3764 - accuracy: 0.8338 - val_loss: 0.5498 - val_accuracy: 0.7592\n",
      "Epoch 98/100\n",
      "39/39 [==============================] - 0s 7ms/step - loss: 0.3757 - accuracy: 0.8338 - val_loss: 0.5492 - val_accuracy: 0.7592\n",
      "Epoch 99/100\n",
      "39/39 [==============================] - 0s 7ms/step - loss: 0.3759 - accuracy: 0.8338 - val_loss: 0.5500 - val_accuracy: 0.7592\n",
      "Epoch 100/100\n",
      "39/39 [==============================] - 0s 7ms/step - loss: 0.3752 - accuracy: 0.8338 - val_loss: 0.5509 - val_accuracy: 0.7592\n"
     ]
    }
   ],
   "source": [
    "model_history = classifier.fit(X_train, y_train, validation_split = 0.33, batch_size=10, epochs=100)"
   ]
  },
  {
   "cell_type": "code",
   "execution_count": 27,
   "id": "4941a23f",
   "metadata": {},
   "outputs": [
    {
     "data": {
      "image/png": "[encoded data removed]",
      "text/plain": [
       "<Figure size 432x288 with 1 Axes>"
      ]
     },
     "metadata": {
      "needs_background": "light"
     },
     "output_type": "display_data"
    }
   ],
   "source": [
    "import matplotlib.pyplot as plt\n",
    "\n",
    "plt.plot(model_history.history['accuracy'])\n",
    "plt.plot(model_history.history['val_accuracy'])\n",
    "plt.title('model accuracy')\n",
    "plt.ylabel('accuracy')\n",
    "plt.xlabel('epoch')\n",
    "plt.legend(['train','test'], loc='upper left')\n",
    "plt.show()"
   ]
  },
  {
   "cell_type": "code",
   "execution_count": 12,
   "id": "88e26416",
   "metadata": {},
   "outputs": [
    {
     "name": "stdout",
     "output_type": "stream",
     "text": [
      "6/6 [==============================] - 0s 2ms/step\n"
     ]
    },
    {
     "name": "stderr",
     "output_type": "stream",
     "text": [
      "2022-08-02 08:47:56.229806: I tensorflow/core/grappler/optimizers/custom_graph_optimizer_registry.cc:113] Plugin optimizer for device_type GPU is enabled.\n"
     ]
    }
   ],
   "source": [
    "y_pred = classifier.predict(X_test)"
   ]
  },
  {
   "cell_type": "code",
   "execution_count": 14,
   "id": "3ca3f563",
   "metadata": {},
   "outputs": [],
   "source": [
    "y_pred_1 = (y_pred >= 0.45)\n",
    "y_pred_2 = (y_pred >= 0.55)\n",
    "y_pred_3 = (y_pred >= 0.66)\n",
    "y_pred_4 = (y_pred >= 0.77)"
   ]
  },
  {
   "cell_type": "code",
   "execution_count": 24,
   "id": "dffec475",
   "metadata": {},
   "outputs": [
    {
     "data": {
      "text/plain": [
       "array([[110,  21],\n",
       "       [ 25,  36]])"
      ]
     },
     "execution_count": 24,
     "metadata": {},
     "output_type": "execute_result"
    }
   ],
   "source": [
    "from sklearn.metrics import confusion_matrix\n",
    "\n",
    "cm = confusion_matrix(y_test,y_pred_1)\n",
    "cm"
   ]
  },
  {
   "cell_type": "code",
   "execution_count": 26,
   "id": "aada5349",
   "metadata": {},
   "outputs": [
    {
     "data": {
      "text/plain": [
       "0.7604166666666666"
      ]
     },
     "execution_count": 26,
     "metadata": {},
     "output_type": "execute_result"
    }
   ],
   "source": [
    "score = accuracy_score(y_pred_1,y_test)\n",
    "score"
   ]
  },
  {
   "cell_type": "code",
   "execution_count": null,
   "id": "89c1386b",
   "metadata": {},
   "outputs": [],
   "source": []
  }
 ],
 "metadata": {
  "kernelspec": {
   "display_name": "Python 3 (ipykernel)",
   "language": "python",
   "name": "python3"
  },
  "language_info": {
   "codemirror_mode": {
    "name": "ipython",
    "version": 3
   },
   "file_extension": ".py",
   "mimetype": "text/x-python",
   "name": "python",
   "nbconvert_exporter": "python",
   "pygments_lexer": "ipython3",
   "version": "3.10.5"
  }
 },
 "nbformat": 4,
 "nbformat_minor": 5
}
